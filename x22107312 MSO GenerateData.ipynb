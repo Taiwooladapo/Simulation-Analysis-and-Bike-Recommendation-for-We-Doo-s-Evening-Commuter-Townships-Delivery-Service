{
 "cells": [
  {
   "cell_type": "code",
   "execution_count": 39,
   "id": "86e32ad9",
   "metadata": {
    "ExecuteTime": {
     "end_time": "2023-06-22T07:04:02.066998Z",
     "start_time": "2023-06-22T07:04:01.147516Z"
    }
   },
   "outputs": [],
   "source": [
    "# Importing the necessary libraries\n",
    "\n",
    "import matplotlib.pyplot as plt\n",
    "import pulp\n",
    "import math\n",
    "import random\n",
    "import numpy as np"
   ]
  },
  {
   "cell_type": "markdown",
   "id": "6f364ca7",
   "metadata": {
    "heading_collapsed": true
   },
   "source": [
    "# Utilities"
   ]
  },
  {
   "cell_type": "markdown",
   "id": "8027b3d2",
   "metadata": {
    "hidden": true
   },
   "source": [
    "## Points and Distances"
   ]
  },
  {
   "cell_type": "code",
   "execution_count": 2,
   "id": "3a34e624",
   "metadata": {
    "ExecuteTime": {
     "end_time": "2023-06-22T07:04:02.069540Z",
     "start_time": "2023-06-22T07:04:02.068138Z"
    },
    "hidden": true
   },
   "outputs": [],
   "source": [
    "resolution = 10000  # city of about 10km diameter"
   ]
  },
  {
   "cell_type": "code",
   "execution_count": 3,
   "id": "fdee6ad8",
   "metadata": {
    "ExecuteTime": {
     "end_time": "2023-06-22T07:04:02.074106Z",
     "start_time": "2023-06-22T07:04:02.070312Z"
    },
    "hidden": true
   },
   "outputs": [],
   "source": [
    "def dist(p1, p2):\n",
    "    (x1, y1) = p1\n",
    "    (x2, y2) = p2\n",
    "    return int(math.sqrt((x1-x2)**2+(y1-y2)**2))"
   ]
  },
  {
   "cell_type": "code",
   "execution_count": 4,
   "id": "d68f6f97",
   "metadata": {
    "ExecuteTime": {
     "end_time": "2023-06-22T07:04:02.077543Z",
     "start_time": "2023-06-22T07:04:02.075558Z"
    },
    "hidden": true
   },
   "outputs": [],
   "source": [
    "def nearest(X, P):\n",
    "    minD = math.inf\n",
    "    minP = None\n",
    "    for p in P:\n",
    "        d=dist(X, p)\n",
    "        if d<minD:\n",
    "            minP, minD = p, d\n",
    "    return minP         "
   ]
  },
  {
   "cell_type": "code",
   "execution_count": 5,
   "id": "0c8ee7e2",
   "metadata": {
    "ExecuteTime": {
     "end_time": "2023-06-22T07:04:02.081523Z",
     "start_time": "2023-06-22T07:04:02.078402Z"
    },
    "hidden": true
   },
   "outputs": [],
   "source": [
    "def generatePoints(n):\n",
    "    \n",
    "    def gen():\n",
    "        x = int(random.gauss(mu=resolution/2, sigma=resolution/8))\n",
    "        return min(resolution-50, max(50, x))\n",
    "    \n",
    "    mindist = resolution/(2*math.sqrt(n)) \n",
    "    # avoid points to neart to each other\n",
    "    P = []\n",
    "    while len(P)<n:\n",
    "        i=len(P)\n",
    "    \n",
    "        x0=gen()\n",
    "        y0=gen()\n",
    "        \n",
    "        # don't place new points near existing points\n",
    "        P.append((x0,y0))\n",
    "        for j in range(0,i):\n",
    "            if dist(P[i],P[j])<mindist:\n",
    "                P=P[:-1]\n",
    "                break\n",
    "    return P"
   ]
  },
  {
   "cell_type": "markdown",
   "id": "66c7e4dc",
   "metadata": {
    "hidden": true
   },
   "source": [
    "## Lines"
   ]
  },
  {
   "cell_type": "markdown",
   "id": "7bd2ddb8",
   "metadata": {
    "hidden": true
   },
   "source": [
    "Lines are representes as pairs of Points, but there is no preferred order of points."
   ]
  },
  {
   "cell_type": "code",
   "execution_count": 6,
   "id": "df474cab",
   "metadata": {
    "ExecuteTime": {
     "end_time": "2023-06-22T07:04:02.084251Z",
     "start_time": "2023-06-22T07:04:02.082479Z"
    },
    "hidden": true
   },
   "outputs": [],
   "source": [
    "def equalLines(l1, l2):\n",
    "    if l1==l2:\n",
    "        return True\n",
    "    else:\n",
    "        return l1[0]==l2[1] and l1[1]==l2[0]"
   ]
  },
  {
   "cell_type": "code",
   "execution_count": 7,
   "id": "1940c668",
   "metadata": {
    "ExecuteTime": {
     "end_time": "2023-06-22T07:04:02.086751Z",
     "start_time": "2023-06-22T07:04:02.085074Z"
    },
    "hidden": true
   },
   "outputs": [],
   "source": [
    "def rev(L):\n",
    "    return L[1],L[0]"
   ]
  },
  {
   "cell_type": "code",
   "execution_count": 8,
   "id": "763cc237",
   "metadata": {
    "ExecuteTime": {
     "end_time": "2023-06-22T07:04:02.090817Z",
     "start_time": "2023-06-22T07:04:02.087707Z"
    },
    "hidden": true
   },
   "outputs": [],
   "source": [
    "def solve(x11, x12, y1, x21, x22, y2):\n",
    "    \n",
    "    def Det(x11, x12, x21, x22):\n",
    "        return x11*x22-x21*x12\n",
    "\n",
    "    D = Det(x11, x12, x21, x22)\n",
    "    Ds = Det(y1, x12, y2, x22)\n",
    "    Dt = Det(x11, y1, x21, y2)\n",
    "    if D==0:\n",
    "        return False\n",
    "    s=Ds/D\n",
    "    t=Dt/D\n",
    "    return 0 <= s and s <= 1 and 0 <= t and t <= 1\n",
    "    \n",
    "def intersecting(l1, l2):\n",
    "    p1, p2 = l1\n",
    "    q1, q2 = l2\n",
    "    if p1==q1 or p1==q2 or p2==q1 or p2==q2:\n",
    "        return False\n",
    "    xp1, yp1 = p1\n",
    "    xp2, yp2 = p2\n",
    "    xq1, yq1 = q1\n",
    "    xq2, yq2 = q2\n",
    "    return solve(xp2-xp1, xq1-xq2, xq1-xp1,\n",
    "                 yp2-yp1, yq1-yq2, yq1-yp1)\n",
    "\n"
   ]
  },
  {
   "cell_type": "markdown",
   "id": "4baf04ed",
   "metadata": {
    "hidden": true
   },
   "source": [
    "## Triangles"
   ]
  },
  {
   "cell_type": "code",
   "execution_count": 9,
   "id": "eb4c8179",
   "metadata": {
    "ExecuteTime": {
     "end_time": "2023-06-22T07:04:02.094439Z",
     "start_time": "2023-06-22T07:04:02.091771Z"
    },
    "hidden": true
   },
   "outputs": [],
   "source": [
    "def equalTriangles(t1, t2):\n",
    "    P1, P2, P3 = t1\n",
    "    Q1, Q2, Q3 = t2\n",
    "    if P1==Q1:\n",
    "        if P2==Q2:\n",
    "            return P3==Q3\n",
    "        elif P2==Q3:\n",
    "            return P3==Q2\n",
    "        else:\n",
    "            return False\n",
    "    elif P1==Q2:\n",
    "        if P2==Q1:\n",
    "            return P3==Q3\n",
    "        elif P2==Q3:\n",
    "            return P3==Q1\n",
    "        else:\n",
    "            return False\n",
    "    elif P1==Q3:\n",
    "        if P2==Q1:\n",
    "            return P3==Q2\n",
    "        elif P2==Q2:\n",
    "            return P3==Q1\n",
    "        else:\n",
    "            return False\n",
    "    else:\n",
    "        return False"
   ]
  },
  {
   "cell_type": "code",
   "execution_count": 10,
   "id": "6320fee4",
   "metadata": {
    "ExecuteTime": {
     "end_time": "2023-06-22T07:04:02.098507Z",
     "start_time": "2023-06-22T07:04:02.096834Z"
    },
    "hidden": true
   },
   "outputs": [],
   "source": [
    "def removeTriangle(t, T):\n",
    "    for tt in T:\n",
    "        if equalTriangles(t, tt):\n",
    "            T.remove(tt)\n",
    "            return True\n",
    "    return False    "
   ]
  },
  {
   "cell_type": "code",
   "execution_count": 11,
   "id": "ce96535b",
   "metadata": {
    "ExecuteTime": {
     "end_time": "2023-06-22T07:04:02.101278Z",
     "start_time": "2023-06-22T07:04:02.099452Z"
    },
    "hidden": true
   },
   "outputs": [],
   "source": [
    "def addTriangle(t, T):\n",
    "    for tt in T:\n",
    "        if equalTriangles(t, tt):\n",
    "            return\n",
    "    T.append(t)  "
   ]
  },
  {
   "cell_type": "code",
   "execution_count": 12,
   "id": "a9e66799",
   "metadata": {
    "ExecuteTime": {
     "end_time": "2023-06-22T07:04:02.104189Z",
     "start_time": "2023-06-22T07:04:02.102071Z"
    },
    "hidden": true
   },
   "outputs": [],
   "source": [
    "def area(p1, p2, p3):\n",
    "    x1, y1 = p1\n",
    "    x2, y2 = p2\n",
    "    x3, y3 = p3\n",
    "    return abs(x1*(y2-y3)+x2*(y3-y1)+x3*(y1-y2))/2"
   ]
  },
  {
   "cell_type": "code",
   "execution_count": 13,
   "id": "5e7666ac",
   "metadata": {
    "ExecuteTime": {
     "end_time": "2023-06-22T07:04:02.107195Z",
     "start_time": "2023-06-22T07:04:02.104996Z"
    },
    "hidden": true
   },
   "outputs": [],
   "source": [
    "def insideTriangle(x, t):\n",
    "    p, q, r = t\n",
    "    if x==p or x==q or x==r:\n",
    "        return False\n",
    "    return abs(area(p,q,x) + area(p,r,x)+ area(q,r,x) - area(p,q,r))<0.00001 "
   ]
  },
  {
   "cell_type": "code",
   "execution_count": 14,
   "id": "0a786543",
   "metadata": {
    "ExecuteTime": {
     "end_time": "2023-06-22T07:04:02.109848Z",
     "start_time": "2023-06-22T07:04:02.108153Z"
    },
    "hidden": true
   },
   "outputs": [],
   "source": [
    "def sides(t):\n",
    "    A, B, C = t\n",
    "    return [(B, C), (C, A), (A, B)]"
   ]
  },
  {
   "cell_type": "code",
   "execution_count": 15,
   "id": "5163c40b",
   "metadata": {
    "ExecuteTime": {
     "end_time": "2023-06-22T07:04:02.112817Z",
     "start_time": "2023-06-22T07:04:02.110716Z"
    },
    "hidden": true
   },
   "outputs": [],
   "source": [
    "def longestSide(t):\n",
    "    return sorted(sides(t), key=lambda s: dist(s[0], s[1]), reverse=True)[0]"
   ]
  },
  {
   "cell_type": "code",
   "execution_count": 16,
   "id": "7694066b",
   "metadata": {
    "ExecuteTime": {
     "end_time": "2023-06-22T07:04:02.116124Z",
     "start_time": "2023-06-22T07:04:02.114174Z"
    },
    "hidden": true
   },
   "outputs": [],
   "source": [
    "def commonSide(t1, t2):\n",
    "    S1 = sides(t1)\n",
    "    S2 = sides(t2)\n",
    "    for s1 in S1:\n",
    "        for s2 in S2:\n",
    "            if equalLines(s1, s2):\n",
    "                return s1\n",
    "    return None"
   ]
  },
  {
   "cell_type": "code",
   "execution_count": 17,
   "id": "0c6341b4",
   "metadata": {
    "ExecuteTime": {
     "end_time": "2023-06-22T07:04:02.119155Z",
     "start_time": "2023-06-22T07:04:02.117186Z"
    },
    "hidden": true
   },
   "outputs": [],
   "source": [
    "def oppositePoint(t, l):\n",
    "    A, B, C = t\n",
    "    P, Q = l\n",
    "    if A==P:\n",
    "        return C if B==Q else B\n",
    "    elif A==Q:\n",
    "        return C if B==P else B\n",
    "    else:\n",
    "        return A"
   ]
  },
  {
   "cell_type": "code",
   "execution_count": 18,
   "id": "a1c2be01",
   "metadata": {
    "ExecuteTime": {
     "end_time": "2023-06-22T07:04:02.123126Z",
     "start_time": "2023-06-22T07:04:02.120099Z"
    },
    "hidden": true
   },
   "outputs": [],
   "source": [
    "def intersectingTriangles(c1, c2):\n",
    "    c= commonSide(c1, c2)\n",
    "    if c is None:\n",
    "        return False\n",
    "    A, B = c\n",
    "    C1 = oppositePoint(c1, c)\n",
    "    C2 = oppositePoint(c2, c)\n",
    "    return intersecting((A, C1), (B,C2)) or \\\n",
    "            intersecting((A, C2), (B, C1))\n",
    "\n",
    "def intersectingLines(c1, c2):\n",
    "    c= commonSide(c1, c2)\n",
    "    if c is None:\n",
    "        return None\n",
    "    A, B = c\n",
    "    C1 = oppositePoint(c1, c)\n",
    "    C2 = oppositePoint(c2, c)\n",
    "    if intersecting((A, C1), (B,C2)):\n",
    "        return (A, C1), (B,C2)\n",
    "    elif intersecting((A, C2), (B, C1)):\n",
    "        return (A, C2), (B, C1)\n",
    "    else:\n",
    "        return None"
   ]
  },
  {
   "cell_type": "code",
   "execution_count": 19,
   "id": "4f67afe2",
   "metadata": {
    "ExecuteTime": {
     "end_time": "2023-06-22T07:04:02.126571Z",
     "start_time": "2023-06-22T07:04:02.124167Z"
    },
    "hidden": true
   },
   "outputs": [],
   "source": [
    "def defuse(t1, t2):\n",
    "    # is only called if intersectingTriangles(t1, t2)\n",
    "    l1, l2 = intersectingLines(t1, t2)\n",
    "    c = commonSide(t1, t2)\n",
    "    if c is None:\n",
    "        return None\n",
    "    A, B = c\n",
    "    C1 = oppositePoint(t1, c)\n",
    "    C2 = oppositePoint(t2, c)\n",
    "    if intersecting((A, C1), (B,C2)):\n",
    "        return [C1, C2, A]\n",
    "    elif intersecting((A, C2), (B, C1)):\n",
    "        return [C1, C2, B]"
   ]
  },
  {
   "cell_type": "code",
   "execution_count": 20,
   "id": "1a9c7b33",
   "metadata": {
    "ExecuteTime": {
     "end_time": "2023-06-22T07:04:02.129515Z",
     "start_time": "2023-06-22T07:04:02.127506Z"
    },
    "hidden": true
   },
   "outputs": [],
   "source": [
    "def slimTriangle(t):\n",
    "    A, B, C = t\n",
    "    a = dist(B,C)\n",
    "    b = dist(A,C)\n",
    "    c = dist(A,B)\n",
    "    [a, b, c] = sorted([a, b, c])\n",
    "    return a+b<1.07*c"
   ]
  },
  {
   "cell_type": "code",
   "execution_count": 21,
   "id": "3b6b2acd",
   "metadata": {
    "ExecuteTime": {
     "end_time": "2023-06-22T07:04:02.133036Z",
     "start_time": "2023-06-22T07:04:02.130351Z"
    },
    "hidden": true
   },
   "outputs": [],
   "source": [
    "def plotTriangle(t, style='r-o', lw=1, ms=3):\n",
    "    p1, p2, p3 = t\n",
    "    plt.plot( [ p1[0], p2[0], p3[0], p1[0] ],\n",
    "              [ p1[1], p2[1], p3[1], p1[1] ], \n",
    "              style, lw=lw, ms=ms)\n",
    "\n",
    "def plotTriangles(T, style='r-o', lw=1, ms=3):\n",
    "    plt.xlim(0,resolution)\n",
    "    plt.ylim(0,resolution)\n",
    "    plt.axis('off')\n",
    "    for t in T:\n",
    "        plotTriangle(t, style, lw=lw, ms=ms)\n",
    "    plt.show()"
   ]
  },
  {
   "cell_type": "markdown",
   "id": "71f02ce8",
   "metadata": {
    "hidden": true
   },
   "source": [
    "## Triangulation"
   ]
  },
  {
   "cell_type": "code",
   "execution_count": 22,
   "id": "d579f0c2",
   "metadata": {
    "ExecuteTime": {
     "end_time": "2023-06-22T07:04:02.145515Z",
     "start_time": "2023-06-22T07:04:02.134066Z"
    },
    "hidden": true
   },
   "outputs": [],
   "source": [
    "def triangulation(P, show=False):\n",
    "    x = [ p[0] for p in P ]\n",
    "    y = [ p[1] for p in P ]\n",
    "    minx = min(x)\n",
    "    maxx = max(x)\n",
    "    miny = min(y)\n",
    "    maxy = max(y)\n",
    "    nmaxx = 1.1 * maxx\n",
    "    nmaxy = 1.1 * maxy\n",
    "    nminx = max(0.5 * minx, 0)\n",
    "    nminy = max(0.5 * miny, 0)\n",
    "    distx = nmaxx-nminx\n",
    "    disty = nmaxy-nminy\n",
    "    d = math.sqrt(distx*disty/(2*len(P)))\n",
    "    dx = math.ceil(distx/d)\n",
    "    dy = math.ceil(disty/d)\n",
    "\n",
    "        \n",
    "    def kx(i):\n",
    "        return nminx+i*d\n",
    "    \n",
    "    def ky(j):\n",
    "        return nminy+j*d\n",
    "    \n",
    "    def k(i, j):\n",
    "        return (kx(i), ky(j))\n",
    "    \n",
    "    # def n(i, j):\n",
    "    #     return nearest( (kx(i), ky(j)), P)\n",
    "    def n(i, j):\n",
    "        X = (kx(i), ky(j))\n",
    "        minD = math.inf\n",
    "        minP = None\n",
    "        for p in P:\n",
    "            d=dist(X, p)\n",
    "            if d<minD:\n",
    "                minP, minD = p, d\n",
    "        return minP  \n",
    "\n",
    "    if show:\n",
    "\n",
    "        plt.figure(0)\n",
    "        plt.xlim(0,resolution)\n",
    "        plt.ylim(0,resolution)\n",
    "        plt.axis('off')\n",
    "    \n",
    "        plt.plot([ p[0] for p in P ], \n",
    "                 [ p[1] for p in P ], 'ro', ms=10)    \n",
    "    \n",
    "        for i in range(0, dx+1):\n",
    "            for j in range(0, dy):\n",
    "                plt.plot( [ kx(i), kx(i) ],\n",
    "                          [ ky(j), ky(j+1) ], 'b:.')\n",
    "            \n",
    "        for j in range(0, dy+1):\n",
    "            for i in range(0, dx):\n",
    "                plt.plot( [ kx(i), kx(i+1) ],\n",
    "                          [ ky(j), ky(j) ], 'b:.')\n",
    "            \n",
    "        for i in range(0, dx):\n",
    "            for j in range(0, dy):\n",
    "                plt.plot( [ kx(i), kx(i+1) ],\n",
    "                          [ ky(j), ky(j+1) ], 'b:.')\n",
    "    \n",
    "        for i in range(0, dx+1):\n",
    "            for j in range(0, dy+1):\n",
    "                nx, ny = n(i,j)\n",
    "                plt.plot( [ kx(i), nx ],\n",
    "                          [ ky(j), ny ], 'g:')\n",
    "\n",
    "\n",
    "    \n",
    "    # set of triangles\n",
    "    T = []\n",
    "    for i in range(0, dx):\n",
    "        for j in range(0, dy):\n",
    "            p1=n(i,j)\n",
    "            p2=n(i+1, j)\n",
    "            p3=n(i, j+1)\n",
    "            p4=n(i+1, j+1)\n",
    "            if p1!=p2 and p2!=p4 and p4!=p1:\n",
    "                addTriangle([p1, p2, p4], T)\n",
    "            if p1!=p3 and p3!=p4 and p4!=p1:\n",
    "                addTriangle([p1, p3, p4], T)\n",
    "                  \n",
    "    # Replace a triangle containing an inner point\n",
    "    # with three triangles formed from this inner point\n",
    "    C = T.copy()\n",
    "    for p in P:\n",
    "        for t in T:\n",
    "            if insideTriangle(p, t):\n",
    "                p1, p2, p3 = t\n",
    "                C.remove(t)\n",
    "                C.append( (p1, p2, p) )\n",
    "                C.append( (p2, p3, p) )\n",
    "                C.append( (p3, p1, p) )\n",
    "         \n",
    "    PLOT = 0\n",
    "    \n",
    "    def showTriangulation(T, style='r-o', check=False):\n",
    "        nonlocal PLOT\n",
    "        PLOT += 1\n",
    "        plt.figure(PLOT)\n",
    "        plt.xlim(0,resolution)\n",
    "        plt.ylim(0,resolution)\n",
    "        plt.axis('off')\n",
    "        for t in T:\n",
    "            plotTriangle(t, 'r-o', lw=0.5)\n",
    "        \n",
    "        if check:\n",
    "            found=False\n",
    "            for t1 in T:\n",
    "                for t2 in T:\n",
    "                    if t1!=t2 and intersectingTriangles(t1, t2):\n",
    "                        plotTriangle(t1, 'b-o')\n",
    "                        plotTriangle(t2, 'g-o')\n",
    "                        found=True\n",
    "                        break\n",
    "                if found:\n",
    "                    break\n",
    "  \n",
    "    found = True\n",
    "    while found:\n",
    "        \n",
    "        if show:\n",
    "            showTriangulation(C)\n",
    "        \n",
    "        D=C.copy()\n",
    "        found = False\n",
    "        for c1 in C:\n",
    "            for c2 in C:\n",
    "                if c1!=c2 and intersectingTriangles(c1, c2):\n",
    "                    # print(f\"replacing\")\n",
    "                    # print(triangle_String(c1))\n",
    "                    # print(triangle_String(c2))\n",
    "                    c3=defuse(c1, c2)\n",
    "                    removeTriangle(c2, D)\n",
    "                    # print(triangle_String(c3))\n",
    "                    addTriangle(c3, D)\n",
    "                    found=True\n",
    "                    break\n",
    "            if found:\n",
    "                break\n",
    "        C=D\n",
    "        \n",
    "    # Check for isolated points\n",
    "    # This can now probably not happen anymore, \n",
    "    # but just leave it in for now\n",
    "    \n",
    "    def isolated(p, C):\n",
    "        for c in C:\n",
    "            p1, p2, p3 = c\n",
    "            if p==p1 or p==p2 or p==p3:\n",
    "                return False\n",
    "        return True\n",
    "    \n",
    "    for p in P:\n",
    "        if isolated(p, D):\n",
    "            plt.plot( [ p[0] ], [ p[1] ], 'ko', ms=15)\n",
    "                    \n",
    "    return C"
   ]
  },
  {
   "cell_type": "markdown",
   "id": "cb885ad6",
   "metadata": {
    "hidden": true
   },
   "source": [
    "## Graphs"
   ]
  },
  {
   "cell_type": "code",
   "execution_count": 23,
   "id": "a266978c",
   "metadata": {
    "ExecuteTime": {
     "end_time": "2023-06-22T07:04:02.150558Z",
     "start_time": "2023-06-22T07:04:02.146495Z"
    },
    "hidden": true
   },
   "outputs": [],
   "source": [
    "def element(p, S):\n",
    "    for s in S:\n",
    "        if s==p: # s[0]==p[0] and s[1]==p[1]:\n",
    "            return True\n",
    "    return False\n",
    "        \n",
    "def vertices(T):\n",
    "    S = []\n",
    "    for t in T:\n",
    "        A, B, C = t\n",
    "        if not element(A, S):\n",
    "            S.append(A)\n",
    "        if not element(B, S):\n",
    "            S.append(B)\n",
    "        if not element(C, S):\n",
    "            S.append(C)\n",
    "    return sorted(S, key=lambda p: p[0])\n",
    "\n",
    "def edges(T):\n",
    "    S = []\n",
    "    for t in T:\n",
    "        A, B, C = sides(t)\n",
    "        if not element(A, S) and not element(rev(A), S):\n",
    "            S.append(A)\n",
    "        if not element(B, S) and not element(rev(B), S):\n",
    "            S.append(B)\n",
    "        if not element(C, S) and not element(rev(C), S):\n",
    "            S.append(C)\n",
    "    return sorted(S, key=lambda p: p[0][0])\n",
    "\n",
    "def graph(T):\n",
    "    return vertices(T), edges(T)"
   ]
  },
  {
   "cell_type": "markdown",
   "id": "853eb5e3",
   "metadata": {
    "hidden": true
   },
   "source": [
    "## Lists and Paths"
   ]
  },
  {
   "cell_type": "code",
   "execution_count": 24,
   "id": "ad4896a5",
   "metadata": {
    "ExecuteTime": {
     "end_time": "2023-06-22T07:04:02.153550Z",
     "start_time": "2023-06-22T07:04:02.151627Z"
    },
    "hidden": true
   },
   "outputs": [],
   "source": [
    "def pathLength(P):\n",
    "    return 0 if len(P)<=1 else \\\n",
    "            dist(P[0], P[1])+pathLength(P[1:])"
   ]
  },
  {
   "cell_type": "code",
   "execution_count": 25,
   "id": "77c6090b",
   "metadata": {
    "ExecuteTime": {
     "end_time": "2023-06-22T07:04:02.156062Z",
     "start_time": "2023-06-22T07:04:02.154424Z"
    },
    "hidden": true
   },
   "outputs": [],
   "source": [
    "def reverse(P):\n",
    "    return [ P[-i] for i in range(1,len(P)+1) ]"
   ]
  },
  {
   "cell_type": "code",
   "execution_count": 26,
   "id": "340c2745",
   "metadata": {
    "ExecuteTime": {
     "end_time": "2023-06-22T07:04:02.158619Z",
     "start_time": "2023-06-22T07:04:02.156974Z"
    },
    "hidden": true
   },
   "outputs": [],
   "source": [
    "def index(x, L):\n",
    "    for i in range(len(L)):\n",
    "        if x==L[i]: \n",
    "            return i\n",
    "    return None"
   ]
  },
  {
   "cell_type": "code",
   "execution_count": 27,
   "id": "cad61c30",
   "metadata": {
    "ExecuteTime": {
     "end_time": "2023-06-22T07:04:02.161245Z",
     "start_time": "2023-06-22T07:04:02.159500Z"
    },
    "hidden": true
   },
   "outputs": [],
   "source": [
    "def addWithoutDuplicates(L, X):\n",
    "    for i in range(len(X)):\n",
    "        if X[i] not in L:\n",
    "            L.append(X[i])\n",
    "    return L"
   ]
  },
  {
   "cell_type": "markdown",
   "id": "097196aa",
   "metadata": {
    "hidden": true
   },
   "source": [
    "## Maps"
   ]
  },
  {
   "cell_type": "code",
   "execution_count": 28,
   "id": "8f660429",
   "metadata": {
    "ExecuteTime": {
     "end_time": "2023-06-22T07:04:02.168526Z",
     "start_time": "2023-06-22T07:04:02.165539Z"
    },
    "hidden": true
   },
   "outputs": [],
   "source": [
    "def createMap(P, p=0.2):\n",
    "    T = triangulation(P)\n",
    "    V, E = graph(T)\n",
    "    \n",
    "    for t in T:\n",
    "        if slimTriangle(t):\n",
    "            s = longestSide(t)\n",
    "            if s in E:\n",
    "                E.remove(s)\n",
    "            elif (s[1], s[0]) in E:\n",
    "                E.remove((s[1], s[0]))\n",
    "        else:\n",
    "            for tt in T:\n",
    "                if not equalTriangles(t, tt):\n",
    "                    s = commonSide(t, tt)\n",
    "                    if s is None:\n",
    "                        continue\n",
    "                    if random.random()<p:\n",
    "                        if s in E:\n",
    "                            E.remove(s)\n",
    "                            break\n",
    "                        elif (s[1], s[0]) in E:\n",
    "                            E.remove((s[1], s[0]))\n",
    "                            break\n",
    "                    \n",
    "    return V, E"
   ]
  },
  {
   "cell_type": "markdown",
   "id": "dc61827f",
   "metadata": {
    "hidden": true
   },
   "source": [
    "## Place Warehouse Somewhere Inside"
   ]
  },
  {
   "cell_type": "code",
   "execution_count": 29,
   "id": "c63b2f2e",
   "metadata": {
    "ExecuteTime": {
     "end_time": "2023-06-22T07:04:02.171874Z",
     "start_time": "2023-06-22T07:04:02.169647Z"
    },
    "hidden": true
   },
   "outputs": [],
   "source": [
    "def placeWarehouse(M):\n",
    "    V, _ = M\n",
    "    dmin = math.inf\n",
    "    pos = (random.randint(resolution/4, resolution*3/4),\n",
    "            random.randint(resolution/4, resolution*3/4))\n",
    "    for p in V:\n",
    "        dp = dist(p, pos)\n",
    "        if dp<dmin:\n",
    "            w = p\n",
    "            dmin = dp\n",
    "    return w"
   ]
  },
  {
   "cell_type": "markdown",
   "id": "2e7ff6b1",
   "metadata": {
    "hidden": true
   },
   "source": [
    "## Generate Delivery Points"
   ]
  },
  {
   "cell_type": "code",
   "execution_count": 30,
   "id": "058a6093",
   "metadata": {
    "ExecuteTime": {
     "end_time": "2023-06-22T07:04:02.175176Z",
     "start_time": "2023-06-22T07:04:02.172749Z"
    },
    "hidden": true
   },
   "outputs": [],
   "source": [
    "def splitEdge(V, E, s):\n",
    "    A, B = s\n",
    "    p = random.uniform(0.2,0.8)\n",
    "    x = int(A[0]+p*(B[0]-A[0]))\n",
    "    y = int(A[1]+p*(B[1]-A[1]))\n",
    "    t = (x,y)\n",
    "    E.remove(s) \n",
    "    E.append((A, t))\n",
    "    E.append((t, B))\n",
    "    V.append(t)\n",
    "    return (V, E), t"
   ]
  },
  {
   "cell_type": "code",
   "execution_count": 31,
   "id": "b2764b70",
   "metadata": {
    "ExecuteTime": {
     "end_time": "2023-06-22T07:04:02.178627Z",
     "start_time": "2023-06-22T07:04:02.176108Z"
    },
    "hidden": true
   },
   "outputs": [],
   "source": [
    "def addTargets(M, n=5):\n",
    "    V, E = M\n",
    "    V, E = V.copy(), E.copy()\n",
    "    T = []\n",
    "    # we want to ensure that the beginning of the \n",
    "    # sequence of points generated randomly stays\n",
    "    # the same\n",
    "    mindist = 0.05\n",
    "    while len(T)<n:\n",
    "        S = random.sample(E, 1)\n",
    "        s = S[0]\n",
    "        A, B = s\n",
    "        if dist(A,B)>resolution/20: # avoid targets placed narrowly\n",
    "            (V, E), t = splitEdge(V, E, s)\n",
    "            T.append(t)\n",
    "    return (V, E), T"
   ]
  },
  {
   "cell_type": "markdown",
   "id": "268c5569",
   "metadata": {
    "hidden": true
   },
   "source": [
    "## Plot Map with Delivery Route"
   ]
  },
  {
   "cell_type": "code",
   "execution_count": 32,
   "id": "f2f4ff62",
   "metadata": {
    "ExecuteTime": {
     "end_time": "2023-06-22T07:04:02.183735Z",
     "start_time": "2023-06-22T07:04:02.179562Z"
    },
    "hidden": true
   },
   "outputs": [],
   "source": [
    "def plotMap(G, T=[], P=[], w=None,\n",
    "            style='r-o', lw=1, ms=3, \n",
    "            styleT='go', msT=5,\n",
    "            styleP='b-o', lwP=3, msP=1,\n",
    "            stylePT='go', msPT=7,\n",
    "            styleW='bo', msW=7,\n",
    "            text=None, grid=False):\n",
    "    fig = plt.gcf()\n",
    "    fig.set_size_inches(6, 6)\n",
    "    plt.xlim(0,resolution)\n",
    "    plt.ylim(0,resolution)\n",
    "    if not grid:\n",
    "        plt.axis('off')\n",
    "    V, E = G\n",
    "    for e in E:\n",
    "        p1, p2 = e\n",
    "        plt.plot( [ p1[0], p2[0] ],\n",
    "                  [ p1[1], p2[1] ], \n",
    "                  style, lw=lw, ms=ms)\n",
    "    for t in T:\n",
    "        plt.plot( [ t[0] ], [ t[1] ], \n",
    "                  styleT, ms=msT)\n",
    "    plt.plot( [ p[0] for p in P ],\n",
    "              [ p[1] for p in P ], \n",
    "              styleP, lw=lwP, ms=msP)\n",
    "    for p in P:\n",
    "        if p in T:\n",
    "            plt.plot( [ p[0] ], [ p[1] ], \n",
    "                      stylePT, ms=msPT)\n",
    "    if w is not None:\n",
    "        plt.plot( [ w[0] ], [ w[1] ], \n",
    "                      styleW, ms=msW)\n",
    "    if text is not None:\n",
    "        plt.text(0.8*resolution, 0, text)\n",
    "    if grid:\n",
    "        plt.grid()\n",
    "    plt.show()"
   ]
  },
  {
   "cell_type": "markdown",
   "id": "0d5c12ac",
   "metadata": {
    "hidden": true
   },
   "source": [
    "## Generate Data"
   ]
  },
  {
   "cell_type": "code",
   "execution_count": 33,
   "id": "6158d92c",
   "metadata": {
    "ExecuteTime": {
     "end_time": "2023-06-22T07:04:02.189006Z",
     "start_time": "2023-06-22T07:04:02.184649Z"
    },
    "hidden": true
   },
   "outputs": [],
   "source": [
    "def generateData(seed=None, nodes=50, customers=100, \n",
    "                 plot=False, log=False):\n",
    "#actual value is 50 nodes and 100 customers\n",
    "    if seed is None:\n",
    "\n",
    "        print(\"Usage:  M, W, C = generateData(seed=None, plot=False, log=False)\")\n",
    "        print(\"\")\n",
    "        print(\"  seed  the seed value to be used for data generation. \")\n",
    "        print(\"        To test the application use seed=0, it will create\")\n",
    "        print(\"        a small map, with a very few customer locations and\")\n",
    "        print(\"        a small set of delivery data.\")\n",
    "        print(\"        For the generating proper simulation data, use the last\")\n",
    "        print(\"        four digits of your student ID as seed value.\")\n",
    "        print(\"\")\n",
    "        print(\"  log   Controls print output during data generation.\")\n",
    "        print(\"\")\n",
    "        print(\"  plot  Controls graphical output during data generation.\")\n",
    "        print(\"\")\n",
    "        print(\"Returns:\")\n",
    "        print(\"\")\n",
    "        print(\"  M = (V, E) is the generated map given as a graph\")\n",
    "        print(\"    where V is a list of vertices, with each vertice \")\n",
    "        print(\"    given as a pair (x, y) of integer coordinates, \")\n",
    "        print(\"    and E is a list of edges, with each edge given\")\n",
    "        print(\"    as a pair (A, B) of vertices, with each vertex again\")\n",
    "        print(\"    given as a pair (x, y) of integer coordinates\")\n",
    "        print(\"\")\n",
    "        print(\"  W ∈ V  is the location of the distribution warehouse\")\n",
    "        print(\"    given as a pair (x, y) of integer coordinates\")\n",
    "        print(\"\")\n",
    "        print(\"  C ⊆ V  is a list of customer locations\")\n",
    "        print(\"    given as pairs (x, y) of integer coordinates\")\n",
    "        print(\"    len(C) gives the number of customers generated\")\n",
    "        print(\"\")\n",
    "        \n",
    "        seed = 0\n",
    "    \n",
    "    if seed==0:          # generate very simple test data \n",
    "        nodes = 15       # number of points in map\n",
    "        customers = 10    # number of  customers\n",
    "        grid = True\n",
    "            \n",
    "    else:\n",
    "        grid = False\n",
    "        \n",
    "    random.seed(seed)\n",
    "    \n",
    "    P = generatePoints(nodes)\n",
    "    \n",
    "    M = createMap(P)\n",
    "    W = placeWarehouse(M)\n",
    "    MT, C = addTargets(M, customers)\n",
    "\n",
    "    if log:\n",
    "        print(f\"Generated map with {nodes:d} nodes and \" \n",
    "              f\"{customers:d} customer locations\")\n",
    "    if plot:\n",
    "        label=\"\" if seed==0 else f\"seed={seed:4d}\"\n",
    "        plotMap(MT, T=C, w=W, text=label, grid=grid)\n",
    "    \n",
    "    return MT, W, C"
   ]
  },
  {
   "cell_type": "markdown",
   "id": "55e44e50",
   "metadata": {},
   "source": [
    "# Generate Data"
   ]
  },
  {
   "cell_type": "code",
   "execution_count": 34,
   "id": "a93a491b",
   "metadata": {
    "ExecuteTime": {
     "end_time": "2023-06-22T07:04:02.268997Z",
     "start_time": "2023-06-22T07:04:02.265884Z"
    }
   },
   "outputs": [
    {
     "name": "stdout",
     "output_type": "stream",
     "text": [
      "Usage:  M, W, C = generateData(seed=None, plot=False, log=False)\n",
      "\n",
      "  seed  the seed value to be used for data generation. \n",
      "        To test the application use seed=0, it will create\n",
      "        a small map, with a very few customer locations and\n",
      "        a small set of delivery data.\n",
      "        For the generating proper simulation data, use the last\n",
      "        four digits of your student ID as seed value.\n",
      "\n",
      "  log   Controls print output during data generation.\n",
      "\n",
      "  plot  Controls graphical output during data generation.\n",
      "\n",
      "Returns:\n",
      "\n",
      "  M = (V, E) is the generated map given as a graph\n",
      "    where V is a list of vertices, with each vertice \n",
      "    given as a pair (x, y) of integer coordinates, \n",
      "    and E is a list of edges, with each edge given\n",
      "    as a pair (A, B) of vertices, with each vertex again\n",
      "    given as a pair (x, y) of integer coordinates\n",
      "\n",
      "  W ∈ V  is the location of the distribution warehouse\n",
      "    given as a pair (x, y) of integer coordinates\n",
      "\n",
      "  C ⊆ V  is a list of customer locations\n",
      "    given as pairs (x, y) of integer coordinates\n",
      "    len(C) gives the number of customers generated\n",
      "\n"
     ]
    }
   ],
   "source": [
    "M, W, C = generateData()"
   ]
  },
  {
   "cell_type": "markdown",
   "id": "976ca9d4",
   "metadata": {},
   "source": [
    "## Real Sample Data"
   ]
  },
  {
   "cell_type": "markdown",
   "id": "f7f8d163",
   "metadata": {},
   "source": [
    "# Generate data using last 4 digits of student ID (x22107312)"
   ]
  },
  {
   "cell_type": "code",
   "execution_count": 35,
   "id": "e491ef3a",
   "metadata": {
    "ExecuteTime": {
     "end_time": "2023-06-22T07:04:02.766382Z",
     "start_time": "2023-06-22T07:04:02.580242Z"
    },
    "scrolled": false
   },
   "outputs": [
    {
     "name": "stdout",
     "output_type": "stream",
     "text": [
      "Generated map with 50 nodes and 100 customer locations\n"
     ]
    },
    {
     "data": {
      "image/png": "[encoded data removed]",
      "text/plain": [
       "<Figure size 600x600 with 1 Axes>"
      ]
     },
     "metadata": {},
     "output_type": "display_data"
    }
   ],
   "source": [
    "data = generateData(7312, plot=True, log=True)"
   ]
  },
  {
   "cell_type": "markdown",
   "id": "b7bdb541",
   "metadata": {},
   "source": [
    "Save sample data as pickle file:"
   ]
  },
  {
   "cell_type": "code",
   "execution_count": 36,
   "id": "48fb4314",
   "metadata": {},
   "outputs": [],
   "source": [
    "import pickle\n",
    "with open('data.pickled', 'wb') as f:\n",
    "    pickle.dump(data, f)"
   ]
  },
  {
   "cell_type": "markdown",
   "id": "0a69dc6a",
   "metadata": {},
   "source": [
    "# Generate sample data for tests before actual simulation"
   ]
  },
  {
   "cell_type": "code",
   "execution_count": 37,
   "id": "c9cd926d",
   "metadata": {
    "ExecuteTime": {
     "end_time": "2023-06-22T07:04:02.774553Z",
     "start_time": "2023-06-22T07:04:02.771384Z"
    }
   },
   "outputs": [
    {
     "name": "stdout",
     "output_type": "stream",
     "text": [
      "Generated map with 15 nodes and 10 customer locations\n"
     ]
    },
    {
     "data": {
      "image/png": "[encoded data removed]",
      "text/plain": [
       "<Figure size 600x600 with 1 Axes>"
      ]
     },
     "metadata": {},
     "output_type": "display_data"
    }
   ],
   "source": [
    "sampleData = generateData(seed=0, plot = True, log = True)"
   ]
  },
  {
   "cell_type": "code",
   "execution_count": 38,
   "id": "bc667e62",
   "metadata": {
    "ExecuteTime": {
     "end_time": "2023-06-22T07:04:02.778611Z",
     "start_time": "2023-06-22T07:04:02.775415Z"
    }
   },
   "outputs": [],
   "source": [
    "import pickle\n",
    "with open('sampleData.pickled', 'wb') as f:\n",
    "    pickle.dump(sampleData, f)"
   ]
  }
 ],
 "metadata": {
  "kernelspec": {
   "display_name": "Python 3 (ipykernel)",
   "language": "python",
   "name": "python3"
  },
  "language_info": {
   "codemirror_mode": {
    "name": "ipython",
    "version": 3
   },
   "file_extension": ".py",
   "mimetype": "text/x-python",
   "name": "python",
   "nbconvert_exporter": "python",
   "pygments_lexer": "ipython3",
   "version": "3.9.13"
  },
  "toc": {
   "base_numbering": 1,
   "nav_menu": {
    "height": "437px",
    "width": "249px"
   },
   "number_sections": true,
   "sideBar": true,
   "skip_h1_title": false,
   "title_cell": "Table of Contents",
   "title_sidebar": "Contents",
   "toc_cell": true,
   "toc_position": {},
   "toc_section_display": true,
   "toc_window_display": false
  }
 },
 "nbformat": 4,
 "nbformat_minor": 5
}
